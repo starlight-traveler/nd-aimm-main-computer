{
 "cells": [
  {
   "cell_type": "markdown",
   "id": "90700fdc-fcc7-4e54-8c9e-449879d8c66d",
   "metadata": {
    "tags": []
   },
   "source": [
    "# Getting Started\n",
    "\n",
    "\n",
    "> The setup for the NDAIMM Main LPV computer program involves establishing a minimal coding environment essential for compiling its main computer application. This setup typically includes installing necessary compilers, libraries, and a version control system to manage the source code efficiently. Additionally, it's crucial to configure the development environment according to the specific requirements of the NDAIMM program to ensure compatibility and performance.\n",
    "\n",
    "```{important}\n",
    "You must follow all of the steps within this article, if you do not yet understand what you are doing, complete the minimum coding environment and move on to further pages.\n",
    "```"
   ]
  },
  {
   "cell_type": "markdown",
   "id": "e0d992a6-f656-45ce-a025-f824901e8797",
   "metadata": {},
   "source": [
    "## Setting up the Repository\n",
    "\n",
    "The repositories are hosted on the public accessible Github servers. The framework of the repositories is there is a master repositories where all Notre Dame AIMM code gits are stored and within that are \"submodules\" which are further repositories out to other Github gits. The exact details aren't necessary to know at this point in time, so make sure you have git installed and check out the main repository:"
   ]
  },
  {
   "cell_type": "code",
   "execution_count": null,
   "id": "202b0439",
   "metadata": {
    "vscode": {
     "languageId": "plaintext"
    }
   },
   "outputs": [],
   "source": [
    "$ git clone https://github.com/starlight-traveler/nd-aimm.git"
   ]
  },
  {
   "cell_type": "markdown",
   "id": "07f0d900",
   "metadata": {},
   "source": [
    "Once finished you will notice that you don't actually have any data within the submodules! Remember these are further Github repositories and Github must be instructed to pull these in explicitly. So run the following commands:"
   ]
  },
  {
   "cell_type": "code",
   "execution_count": null,
   "id": "18e6aece",
   "metadata": {
    "vscode": {
     "languageId": "plaintext"
    }
   },
   "outputs": [],
   "source": [
    "$ cd nd-aimm\n",
    "$ git submodule update --init --recursive"
   ]
  },
  {
   "cell_type": "markdown",
   "id": "63b7b325",
   "metadata": {},
   "source": [
    "At this point in time you should see the submodules update and everything pulled in. Now a few things to note, when you commit from inside the submodule repository, lets say on nd-aimm-main-computer and push to external, that repository will update, but the main parent nd-aimm will not. There is a cron job on the CI/CD that will update the main repository once a day, but you can either manually add it via adding a push to the main branch in the nd-aimm directory, or simply pulling it down. \n",
    "\n",
    "```{tip}\n",
    "The main repostiory does not need to updated often, as it serves as a way for everything to be in one place, not necessarily as a way to push to external.\n",
    "```"
   ]
  },
  {
   "cell_type": "markdown",
   "id": "94ca0d49",
   "metadata": {},
   "source": [
    "## Pulling In Dependencies\n",
    "\n",
    "Once you have pulled all the repositories and cloned all of the git submodules, go into the nd-aimm-main-computer git repository and run \"ls\" which will enable you to see all available files. The main files you will be interested in are **./CREATE**, and **./AIMM**, the former is the build script for the entire main computer project.\n",
    "\n",
    "```{info}\n",
    "If you are interested in learning bash, zsh, etc, open **CREATE** or **AIMM** with a text editor and take a look at the functions. \n",
    "```\n",
    "\n",
    "What you will need to do on your Unix distribution is to setup the dependencies necessary in order to actually build and run the project. The project lead will attempt to keep this update to date as much as possible, but you may have to do some sluething on your own if a repostiory does not get folded in easily.\n",
    "\n",
    "The program uses **brew** or the package manager **apt** in order to download the necessary system installs. The former will be queried to be installed on Darwin if you do not have it yet installed, while apt is the basis for many Unix operating systems out there.\n",
    "\n",
    "Run the following command in order to install the dependencies:"
   ]
  },
  {
   "cell_type": "code",
   "execution_count": null,
   "id": "df5233a8",
   "metadata": {
    "vscode": {
     "languageId": "plaintext"
    }
   },
   "outputs": [],
   "source": [
    "./CREATE --install-dependencies"
   ]
  },
  {
   "cell_type": "markdown",
   "id": "bdff08f0",
   "metadata": {},
   "source": [
    "This should pull all the necessary dependencies and build the project. If there are any issues with yout build system or you are using a non-standard manager such as **yum**, please ask for help."
   ]
  },
  {
   "cell_type": "markdown",
   "id": "5e943ebe",
   "metadata": {},
   "source": [
    "## Building Earthly"
   ]
  },
  {
   "cell_type": "markdown",
   "id": "1841d300",
   "metadata": {},
   "source": [
    "## Building Natively"
   ]
  }
 ],
 "metadata": {
  "kernelspec": {
   "display_name": "Python 3 (ipykernel)",
   "language": "python",
   "name": "python3"
  },
  "language_info": {
   "codemirror_mode": {
    "name": "ipython",
    "version": 3
   },
   "file_extension": ".py",
   "mimetype": "text/x-python",
   "name": "python",
   "nbconvert_exporter": "python",
   "pygments_lexer": "ipython3",
   "version": "3.10.13"
  },
  "vscode": {
   "interpreter": {
    "hash": "b6702b69e93007336b96338c5a331192f07cedff01d36d4dcfa0f842adb718ad"
   }
  }
 },
 "nbformat": 4,
 "nbformat_minor": 5
}
